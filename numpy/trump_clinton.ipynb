{
 "cells": [
  {
   "cell_type": "code",
   "execution_count": 24,
   "metadata": {},
   "outputs": [],
   "source": [
    "# 练习"
   ]
  },
  {
   "cell_type": "code",
   "execution_count": 25,
   "metadata": {},
   "outputs": [],
   "source": [
    "import numpy as np"
   ]
  },
  {
   "cell_type": "code",
   "execution_count": 26,
   "metadata": {},
   "outputs": [],
   "source": [
    "filename = 'presidential_polls.csv'"
   ]
  },
  {
   "cell_type": "code",
   "execution_count": 27,
   "metadata": {},
   "outputs": [],
   "source": [
    "with open(filename,'r') as f:\n",
    "    first_col = f.readline()[:-1]"
   ]
  },
  {
   "cell_type": "code",
   "execution_count": 28,
   "metadata": {},
   "outputs": [
    {
     "name": "stdout",
     "output_type": "stream",
     "text": [
      "cycle,branch,type,matchup,forecastdate,state,startdate,enddate,pollster,grade,samplesize,population,poll_wt,rawpoll_clinton,rawpoll_trump,rawpoll_johnson,rawpoll_mcmullin,adjpoll_clinton,adjpoll_trump,adjpoll_johnson,adjpoll_mcmullin,multiversions,url,poll_id,question_id,createddate,timestamp\n"
     ]
    }
   ],
   "source": [
    "print(first_col)"
   ]
  },
  {
   "cell_type": "code",
   "execution_count": 29,
   "metadata": {},
   "outputs": [],
   "source": [
    "all_col_name_list = first_col.split(',')"
   ]
  },
  {
   "cell_type": "code",
   "execution_count": 30,
   "metadata": {},
   "outputs": [],
   "source": [
    "usecols_list = ['matchup','adjpoll_clinton','adjpoll_trump','adjpoll_johnson']"
   ]
  },
  {
   "cell_type": "code",
   "execution_count": 31,
   "metadata": {},
   "outputs": [],
   "source": [
    "usecols_index_list = [all_col_name_list.index(col_name) for col_name in usecols_list]"
   ]
  },
  {
   "cell_type": "code",
   "execution_count": 32,
   "metadata": {},
   "outputs": [
    {
     "name": "stdout",
     "output_type": "stream",
     "text": [
      "[3, 17, 18, 19]\n"
     ]
    }
   ],
   "source": [
    "print(usecols_index_list)"
   ]
  },
  {
   "cell_type": "code",
   "execution_count": 33,
   "metadata": {},
   "outputs": [],
   "source": [
    "# 读数据  np.genfromtxt\n",
    "data_arr = np.genfromtxt(filename,delimiter=',',dtype=str,usecols=usecols_index_list)"
   ]
  },
  {
   "cell_type": "code",
   "execution_count": 34,
   "metadata": {},
   "outputs": [
    {
     "name": "stdout",
     "output_type": "stream",
     "text": [
      "[['matchup' 'adjpoll_clinton' 'adjpoll_trump' 'adjpoll_johnson']\n",
      " ['Clinton vs. Trump vs. Johnson' '42.6414' '40.86509' '5.675099']\n",
      " ['Clinton vs. Trump vs. Johnson' '43.29659' '44.72984' '3.401513']\n",
      " ...\n",
      " ['Clinton vs. Trump vs. Johnson' '45.9713' '39.97518' '']\n",
      " ['Clinton vs. Trump vs. Johnson' '45.2939' '46.66175' '1.596946']\n",
      " ['Clinton vs. Trump vs. Johnson' '31.62721' '44.65947' '']]\n"
     ]
    }
   ],
   "source": [
    "print(data_arr)   # 如何全部显示 ..."
   ]
  },
  {
   "cell_type": "code",
   "execution_count": 35,
   "metadata": {},
   "outputs": [],
   "source": [
    "alldata_array = data_arr[1:,1:]"
   ]
  },
  {
   "cell_type": "code",
   "execution_count": 36,
   "metadata": {},
   "outputs": [
    {
     "name": "stdout",
     "output_type": "stream",
     "text": [
      "[['42.6414' '40.86509' '5.675099']\n",
      " ['43.29659' '44.72984' '3.401513']\n",
      " ['46.29779' '40.72604' '6.401513']\n",
      " ...\n",
      " ['45.9713' '39.97518' '']\n",
      " ['45.2939' '46.66175' '1.596946']\n",
      " ['31.62721' '44.65947' '']]\n"
     ]
    }
   ],
   "source": [
    "print(alldata_array)"
   ]
  },
  {
   "cell_type": "code",
   "execution_count": 38,
   "metadata": {},
   "outputs": [
    {
     "name": "stdout",
     "output_type": "stream",
     "text": [
      "[['42.6414' '40.86509' '5.675099']\n",
      " ['43.29659' '44.72984' '3.401513']\n",
      " ['46.29779' '40.72604' '6.401513']\n",
      " ...\n",
      " ['45.9713' '39.97518' '0']\n",
      " ['45.2939' '46.66175' '1.596946']\n",
      " ['31.62721' '44.65947' '0']]\n"
     ]
    }
   ],
   "source": [
    "newall_data_arr = np.where(alldata_array == '','0',alldata_array)    # 数据清洗\n",
    "\n",
    "print(newall_data_arr)"
   ]
  },
  {
   "cell_type": "code",
   "execution_count": 39,
   "metadata": {},
   "outputs": [
    {
     "name": "stdout",
     "output_type": "stream",
     "text": [
      "[[42.6414   40.86509   5.675099]\n",
      " [43.29659  44.72984   3.401513]\n",
      " [46.29779  40.72604   6.401513]\n",
      " ...\n",
      " [45.9713   39.97518   0.      ]\n",
      " [45.2939   46.66175   1.596946]\n",
      " [31.62721  44.65947   0.      ]]\n"
     ]
    }
   ],
   "source": [
    "newall_data_arr = newall_data_arr.astype(np.float64)    # 已经可以用了\n",
    "print(newall_data_arr)"
   ]
  },
  {
   "cell_type": "code",
   "execution_count": 40,
   "metadata": {},
   "outputs": [
    {
     "name": "stdout",
     "output_type": "stream",
     "text": [
      "['adjpoll_clinton' 'adjpoll_trump' 'adjpoll_johnson']\n"
     ]
    }
   ],
   "source": [
    "col_data = data_arr[0,1:]\n",
    "print(col_data)"
   ]
  },
  {
   "cell_type": "code",
   "execution_count": 41,
   "metadata": {},
   "outputs": [
    {
     "name": "stdout",
     "output_type": "stream",
     "text": [
      "adjpoll_clinton:440402.87625999993\n",
      "adjpoll_trump:430409.648269\n",
      "adjpoll_johnson:31131.2616846\n"
     ]
    }
   ],
   "source": [
    "print(\"{}:{}\".format(col_data[0],np.sum(newall_data_arr[:,0])))\n",
    "print(\"{}:{}\".format(col_data[1],np.sum(newall_data_arr[:,1])))\n",
    "print(\"{}:{}\".format(col_data[2],np.sum(newall_data_arr[:,2])))"
   ]
  },
  {
   "cell_type": "code",
   "execution_count": null,
   "metadata": {},
   "outputs": [],
   "source": []
  },
  {
   "cell_type": "code",
   "execution_count": 2,
   "metadata": {},
   "outputs": [],
   "source": [
    "import numpy as np\n",
    "import pandas as pd"
   ]
  },
  {
   "cell_type": "code",
   "execution_count": 3,
   "metadata": {},
   "outputs": [],
   "source": [
    "file_name = 'class.csv'"
   ]
  },
  {
   "cell_type": "code",
   "execution_count": 52,
   "metadata": {},
   "outputs": [
    {
     "ename": "TypeError",
     "evalue": "a bytes-like object is required, not 'str'",
     "output_type": "error",
     "traceback": [
      "\u001b[1;31m---------------------------------------------------------------------------\u001b[0m",
      "\u001b[1;31mTypeError\u001b[0m                                 Traceback (most recent call last)",
      "\u001b[1;32m<ipython-input-52-af406e1e2aee>\u001b[0m in \u001b[0;36m<module>\u001b[1;34m()\u001b[0m\n\u001b[0;32m      1\u001b[0m \u001b[1;32mwith\u001b[0m \u001b[0mopen\u001b[0m\u001b[1;33m(\u001b[0m\u001b[0mfile_name\u001b[0m\u001b[1;33m,\u001b[0m\u001b[1;34m'rb'\u001b[0m\u001b[1;33m)\u001b[0m \u001b[1;32mas\u001b[0m \u001b[0mf\u001b[0m\u001b[1;33m:\u001b[0m\u001b[1;33m\u001b[0m\u001b[0m\n\u001b[1;32m----> 2\u001b[1;33m     \u001b[0mfi_col\u001b[0m \u001b[1;33m=\u001b[0m \u001b[0mf\u001b[0m\u001b[1;33m.\u001b[0m\u001b[0mreadline\u001b[0m\u001b[1;33m(\u001b[0m\u001b[1;33m)\u001b[0m\u001b[1;33m[\u001b[0m\u001b[1;33m:\u001b[0m\u001b[1;33m-\u001b[0m\u001b[1;36m1\u001b[0m\u001b[1;33m]\u001b[0m\u001b[1;33m.\u001b[0m\u001b[0msplit\u001b[0m\u001b[1;33m(\u001b[0m\u001b[1;34m\",\"\u001b[0m\u001b[1;33m)\u001b[0m\u001b[1;33m\u001b[0m\u001b[0m\n\u001b[0m\u001b[0;32m      3\u001b[0m \u001b[0mprint\u001b[0m\u001b[1;33m(\u001b[0m\u001b[1;34mb'fi_col'\u001b[0m\u001b[1;33m)\u001b[0m\u001b[1;33m\u001b[0m\u001b[0m\n",
      "\u001b[1;31mTypeError\u001b[0m: a bytes-like object is required, not 'str'"
     ]
    }
   ],
   "source": [
    "# with open(file_name,'rb') as f:\n",
    "#     fi_col = f.readline()[:-1].split(\",\")\n",
    "# print(fi_col)"
   ]
  },
  {
   "cell_type": "code",
   "execution_count": 4,
   "metadata": {},
   "outputs": [],
   "source": [
    "filename1 = 'class_name.xlsx'"
   ]
  },
  {
   "cell_type": "code",
   "execution_count": 5,
   "metadata": {},
   "outputs": [
    {
     "name": "stdout",
     "output_type": "stream",
     "text": [
      "     list    name    age haha\n",
      "0   325.0  rewrtt  232.0  122\n",
      "1     NaN  rewrtt  233.0  123\n",
      "2    45.0  rewrtt  234.0  124\n",
      "3    46.0       0    0.0  125\n",
      "4    47.0  rewrtt  236.0   \"\"\n",
      "5    48.0       6  237.0  127\n",
      "6    49.0  rewrtt  238.0  128\n",
      "7    50.0  rewrtt    NaN  NaN\n",
      "8    51.0  rewrtt  240.0  130\n",
      "9    52.0  rewrtt  241.0  131\n",
      "10   53.0  rewrtt  242.0  132\n",
      "11   54.0  rewrtt  243.0  133\n",
      "12   55.0  rewrtt  244.0  134\n"
     ]
    }
   ],
   "source": [
    "df = pd.read_excel('class_name.xlsx')\n",
    "print(df)"
   ]
  },
  {
   "cell_type": "code",
   "execution_count": null,
   "metadata": {},
   "outputs": [],
   "source": [
    "# newall_arr1 = np.where(df == \"\",0,df)     # ?????,这是numpy的\n",
    "newall_arr1 = pd.where(df == \"\",0,df)\n",
    "print(newall_arr1)"
   ]
  },
  {
   "cell_type": "code",
   "execution_count": 6,
   "metadata": {},
   "outputs": [
    {
     "name": "stdout",
     "output_type": "stream",
     "text": [
      "     list    name    age   haha\n",
      "0   325.0  rewrtt  232.0  122.0\n",
      "1     NaN  rewrtt  233.0  123.0\n",
      "2    45.0  rewrtt  234.0  124.0\n",
      "3    46.0       0    0.0  125.0\n",
      "4    47.0  rewrtt  236.0    NaN\n",
      "5    48.0       6  237.0  127.0\n",
      "6    49.0  rewrtt  238.0  128.0\n",
      "7    50.0  rewrtt    NaN    NaN\n",
      "8    51.0  rewrtt  240.0  130.0\n",
      "9    52.0  rewrtt  241.0  131.0\n",
      "10   53.0  rewrtt  242.0  132.0\n",
      "11   54.0  rewrtt  243.0  133.0\n",
      "12   55.0  rewrtt  244.0  134.0\n"
     ]
    }
   ],
   "source": [
    "# dataarrall = np.genfromtxt(file_name, delimiter=',',dtype = str)    # 有编码问题，怎么解决？？？\n",
    "df = pd.read_excel('class.csv')    # 读表格数据  空格读出结果为NaN   读 .csv 和 读 .xlsx 一样\n",
    "print(df)                          # \"\"读入还是显示\"\" ，这三个不会处理它"
   ]
  },
  {
   "cell_type": "code",
   "execution_count": 18,
   "metadata": {},
   "outputs": [
    {
     "name": "stdout",
     "output_type": "stream",
     "text": [
      "name    rewrtt\n",
      "age        232\n",
      "haha       122\n",
      "Name: 0, dtype: object\n",
      "<class 'pandas.core.series.Series'>\n",
      "rewrtt\n",
      "232.0\n",
      "122.0\n"
     ]
    }
   ],
   "source": [
    "df1 = df.loc[0,'name':'haha']   # 按索引取值，取一行，则为Series对象\n",
    "print(df1)\n",
    "print(type(df1))\n",
    "for i in df1:\n",
    "    print(i)"
   ]
  },
  {
   "cell_type": "code",
   "execution_count": 13,
   "metadata": {},
   "outputs": [
    {
     "name": "stdout",
     "output_type": "stream",
     "text": [
      "      age   haha\n",
      "0   232.0  122.0\n",
      "1   233.0  123.0\n",
      "2   234.0  124.0\n",
      "3     0.0  125.0\n",
      "4   236.0    NaN\n",
      "5   237.0  127.0\n",
      "6   238.0  128.0\n",
      "7     NaN    NaN\n",
      "8   240.0  130.0\n",
      "9   241.0  131.0\n",
      "10  242.0  132.0\n",
      "11  243.0  133.0\n",
      "12  244.0  134.0\n"
     ]
    }
   ],
   "source": [
    "df2 = df[['age','haha']]  # 取出指定列的数据,列表\n",
    "print(df2)"
   ]
  },
  {
   "cell_type": "code",
   "execution_count": 23,
   "metadata": {},
   "outputs": [
    {
     "name": "stdout",
     "output_type": "stream",
     "text": [
      "age     2620.0\n",
      "haha    1409.0\n",
      "dtype: float64\n",
      "age     2620.0\n",
      "haha    1409.0\n",
      "dtype: float64\n",
      "<class 'pandas.core.series.Series'>\n",
      "2620.0\n",
      "1409.0\n"
     ]
    }
   ],
   "source": [
    "print(df2.sum())   # 同下\n",
    "print(np.sum(df2))\n",
    "print(type(df2.sum()))\n",
    "for i in np.sum(df2):\n",
    "    print(i)"
   ]
  },
  {
   "cell_type": "code",
   "execution_count": 20,
   "metadata": {},
   "outputs": [
    {
     "name": "stdout",
     "output_type": "stream",
     "text": [
      "0   age     232.0\n",
      "    haha    122.0\n",
      "1   age     233.0\n",
      "    haha    123.0\n",
      "2   age     234.0\n",
      "    haha    124.0\n",
      "3   age       0.0\n",
      "    haha    125.0\n",
      "4   age     236.0\n",
      "5   age     237.0\n",
      "    haha    127.0\n",
      "6   age     238.0\n",
      "    haha    128.0\n",
      "8   age     240.0\n",
      "    haha    130.0\n",
      "9   age     241.0\n",
      "    haha    131.0\n",
      "10  age     242.0\n",
      "    haha    132.0\n",
      "11  age     243.0\n",
      "    haha    133.0\n",
      "12  age     244.0\n",
      "    haha    134.0\n",
      "dtype: float64\n",
      "<class 'pandas.core.series.Series'>\n"
     ]
    }
   ],
   "source": [
    "ser2 = df2.stack()    \n",
    "print(ser2)\n",
    "print(type(ser2))"
   ]
  },
  {
   "cell_type": "code",
   "execution_count": null,
   "metadata": {},
   "outputs": [],
   "source": []
  }
 ],
 "metadata": {
  "kernelspec": {
   "display_name": "Python 3",
   "language": "python",
   "name": "python3"
  },
  "language_info": {
   "codemirror_mode": {
    "name": "ipython",
    "version": 3
   },
   "file_extension": ".py",
   "mimetype": "text/x-python",
   "name": "python",
   "nbconvert_exporter": "python",
   "pygments_lexer": "ipython3",
   "version": "3.6.4"
  }
 },
 "nbformat": 4,
 "nbformat_minor": 2
}
