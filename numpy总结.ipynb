{
 "cells": [
  {
   "cell_type": "markdown",
   "metadata": {},
   "source": [
    "### 1,ndarray的随机创建"
   ]
  },
  {
   "cell_type": "code",
   "execution_count": 2,
   "metadata": {},
   "outputs": [],
   "source": [
    "import numpy as np"
   ]
  },
  {
   "cell_type": "code",
   "execution_count": null,
   "metadata": {},
   "outputs": [],
   "source": [
    "# 创建一个3行4列的二维数组，数字的区间是0.0 ~ 1.0之间\n",
    "arr = np.random.rand(3,4)\n",
    "# 创建10000个数字的一维数组，符合动态分布。\n",
    "arr1 = np.random.randn(10000)\n",
    "# 创建指定区间范围的数组：3行4列的二维数组，数字区间在-4 ~ 8之间的整数\n",
    "arr2 = np.random.randint(-4,8,size=(3,4))\n",
    "arr2 = np.random.randint(-4,8,(3,4))  # 也可以\n",
    "\n",
    "# 创建指定区间范围的数组：3行4列的二维数组，数字区间在-4 ~ 8之间的浮点数.\n",
    "arr3 = np.random.uniform(-4,8,(3,4))"
   ]
  },
  {
   "cell_type": "code",
   "execution_count": null,
   "metadata": {},
   "outputs": [],
   "source": [
    "# 数组维度的个数，数组维度的大小，数组维度的数据类型\n",
    "arr.ndim \n",
    "arr.shape\n",
    "arr.dtype"
   ]
  },
  {
   "cell_type": "code",
   "execution_count": 5,
   "metadata": {},
   "outputs": [],
   "source": [
    "import matplotlib.pyplot as plt"
   ]
  },
  {
   "cell_type": "code",
   "execution_count": null,
   "metadata": {},
   "outputs": [],
   "source": [
    "plt.hist(arr1,bins=100,color='r',alpha=0.3)"
   ]
  },
  {
   "cell_type": "code",
   "execution_count": null,
   "metadata": {},
   "outputs": [],
   "source": [
    "plt.show()"
   ]
  },
  {
   "cell_type": "markdown",
   "metadata": {},
   "source": [
    "### 2,ndarray的序列创建"
   ]
  },
  {
   "cell_type": "code",
   "execution_count": null,
   "metadata": {},
   "outputs": [],
   "source": [
    "# 接收一个列表，创建ndarray\n",
    "lis = range(10)\n",
    "arr = np.array(lis)"
   ]
  },
  {
   "cell_type": "code",
   "execution_count": null,
   "metadata": {},
   "outputs": [],
   "source": [
    "# 接收一个嵌套的列表，创建多维ndarray\n",
    "arr1 = np.array([range(10),range(10)])"
   ]
  },
  {
   "cell_type": "code",
   "execution_count": null,
   "metadata": {},
   "outputs": [],
   "source": [
    "# 创建一个全部为 0. 浮点数的二维数据\n",
    "arr3 = np.zeros((3, 4))\n",
    "print(arr3)"
   ]
  },
  {
   "cell_type": "code",
   "execution_count": null,
   "metadata": {},
   "outputs": [],
   "source": [
    "# 创建一个全部为1. 浮点数的二维数组 \n",
    "arr4 = np.ones((3, 4))\n",
    "print(arr4)"
   ]
  },
  {
   "cell_type": "code",
   "execution_count": null,
   "metadata": {},
   "outputs": [],
   "source": [
    "为什么？"
   ]
  },
  {
   "cell_type": "code",
   "execution_count": null,
   "metadata": {},
   "outputs": [],
   "source": [
    "# 效果等同于 zeros    \n",
    "arr5 = np.empty((3, 4))\n",
    "print(arr5)"
   ]
  },
  {
   "cell_type": "code",
   "execution_count": null,
   "metadata": {},
   "outputs": [],
   "source": [
    "# 打乱数组的序列位置，相当于洗牌处理\n",
    "arr6 = np.array(range(12))\n",
    "np.random.shuffle(arr6)"
   ]
  },
  {
   "cell_type": "code",
   "execution_count": null,
   "metadata": {},
   "outputs": [],
   "source": [
    "# 更改数组的维度（注意数字的个数和维度关系）\n",
    "print(arr6.reshape(3, 4))"
   ]
  },
  {
   "cell_type": "markdown",
   "metadata": {},
   "source": [
    "### 3,ndarray的数据类型"
   ]
  },
  {
   "cell_type": "code",
   "execution_count": 7,
   "metadata": {},
   "outputs": [],
   "source": [
    "# 指定创建数据类型为 int32\n",
    "arr = np.ones((3,4),dtype=np.int32)"
   ]
  },
  {
   "cell_type": "raw",
   "metadata": {},
   "source": [
    ".astype"
   ]
  },
  {
   "cell_type": "code",
   "execution_count": null,
   "metadata": {},
   "outputs": [],
   "source": [
    "# 转换原有ndarray的数据类型，返回新的ndarray，不改变原来的\n",
    "arr3 = arr1.astype(np.int32)"
   ]
  },
  {
   "cell_type": "markdown",
   "metadata": {},
   "source": [
    "### 4,ndarray的矩阵运算"
   ]
  },
  {
   "cell_type": "markdown",
   "metadata": {},
   "source": [
    "1、矩阵和矩阵直接做数学运算，根据下标位置进行运算，乘法也是"
   ]
  },
  {
   "cell_type": "code",
   "execution_count": null,
   "metadata": {},
   "outputs": [],
   "source": [
    "arr1 = np.array([ [10, 20, 30], [100, 200, 300] ])\n",
    "arr2 = np.array([ [1, 2, 3], [5, 6, 7]])"
   ]
  },
  {
   "cell_type": "code",
   "execution_count": null,
   "metadata": {},
   "outputs": [],
   "source": [
    "print(arr1 * arr2)\n",
    "print(arr1 + arr2)"
   ]
  },
  {
   "cell_type": "markdown",
   "metadata": {},
   "source": [
    "2、广播运算：元素和矩阵之间的运算，元素会对应所有下标的元素进行运算"
   ]
  },
  {
   "cell_type": "code",
   "execution_count": null,
   "metadata": {},
   "outputs": [],
   "source": [
    "lis = 10 * arr2"
   ]
  },
  {
   "cell_type": "markdown",
   "metadata": {},
   "source": [
    "### 5,位置索引和切片"
   ]
  },
  {
   "cell_type": "markdown",
   "metadata": {},
   "source": [
    "1，对某个数组进行索引切片"
   ]
  },
  {
   "cell_type": "code",
   "execution_count": null,
   "metadata": {},
   "outputs": [],
   "source": [
    "arr2 = np.arange(20).reshape(4, 5)\n",
    "# 取出指定某个一维数组\n",
    "print(arr2[2])"
   ]
  },
  {
   "cell_type": "raw",
   "metadata": {},
   "source": [
    "[[ 0  1  2  3  4]\n",
    " [ 5  6  7  8  9]\n",
    " [10 11 12 13 14]\n",
    " [15 16 17 18 19]]"
   ]
  },
  {
   "cell_type": "code",
   "execution_count": null,
   "metadata": {},
   "outputs": [],
   "source": [
    "print(arr2[2][1:4])"
   ]
  },
  {
   "cell_type": "markdown",
   "metadata": {},
   "source": [
    "2，对所有数组进行索引切片  都是左闭右开[ ，)"
   ]
  },
  {
   "cell_type": "code",
   "execution_count": null,
   "metadata": {},
   "outputs": [],
   "source": [
    "# 取出前两行的中间3个数   \n",
    "print(arr2[0:2, 1:4])\n",
    "[[1 2 3]\n",
    " [6 7 8]]"
   ]
  },
  {
   "cell_type": "code",
   "execution_count": null,
   "metadata": {},
   "outputs": [],
   "source": [
    "# 取出所有行的所有数字（除了第一个）\n",
    "print(arr2[:, 1:])"
   ]
  },
  {
   "cell_type": "markdown",
   "metadata": {},
   "source": [
    "3，条件索引切片"
   ]
  },
  {
   "cell_type": "code",
   "execution_count": null,
   "metadata": {},
   "outputs": [],
   "source": [
    "# 注意：在numpy里通过 & 和 | 来进行条件判断,\n",
    "arr3 = np.array([ [2000, 2001, 2002], [2003, 2004, 2005], [2006, 2007, 2008]])"
   ]
  },
  {
   "cell_type": "code",
   "execution_count": null,
   "metadata": {},
   "outputs": [],
   "source": [
    "# 直接通过条件判断，会返回bool的数组\n",
    "is_after2003_year = arr3 >= 2003"
   ]
  },
  {
   "cell_type": "code",
   "execution_count": null,
   "metadata": {},
   "outputs": [],
   "source": [
    "# arr3 [bool]  返回一个列表，值为True\n",
    "new_arr3 = arr3[is_after2003_year]"
   ]
  },
  {
   "cell_type": "code",
   "execution_count": null,
   "metadata": {},
   "outputs": [],
   "source": [
    "# 等价\n",
    "new_arr3 = arr3[arr3>=2003]"
   ]
  },
  {
   "cell_type": "raw",
   "metadata": {},
   "source": [
    "array([2003 2004 2005 2006 2007 2008])"
   ]
  },
  {
   "cell_type": "code",
   "execution_count": null,
   "metadata": {},
   "outputs": [],
   "source": [
    "#1. 能被400 整除\n",
    "#2. 能被4整除不能被100整除\n",
    "# 求出数据集里的所有闰年\n",
    "print(arr3[(arr3 % 400 == 0) | ((arr3 % 4 == 0) & (arr3 % 100 != 0))])"
   ]
  },
  {
   "cell_type": "markdown",
   "metadata": {},
   "source": [
    "### 6,ndarray的维度转换"
   ]
  },
  {
   "cell_type": "raw",
   "metadata": {},
   "source": [
    "实际怎么转换的？？？  没有改变原有的，而是返回新的，注意transpose的参数"
   ]
  },
  {
   "cell_type": "code",
   "execution_count": null,
   "metadata": {},
   "outputs": [],
   "source": [
    "# 二维数组直接进行维度转换， 3行4列 变成 4行3列\n",
    "arr1 = np.random.randint(0, 10, (3, 4))\n",
    "arr2 = np.random.randint(0, 24, (2,3,4))\n",
    "print(arr1.transpose())"
   ]
  },
  {
   "cell_type": "code",
   "execution_count": null,
   "metadata": {},
   "outputs": [],
   "source": [
    "# 如果不写参数：默认将原来的维度倒置转换 （同样适合上述的二维数组） 2, 3, 4 -> 4, 3 ,2\n",
    "# 如果指定转换的维度，需要指定维度数的下标  2 ：0，3：1， 4：2\n",
    "print(arr2.transpose(1, 0, 2))    # (3,2,4)"
   ]
  },
  {
   "cell_type": "code",
   "execution_count": null,
   "metadata": {},
   "outputs": [],
   "source": [
    "# transpose() 可以被 reshape() 所替代   ？？不可以，结果不同，\n",
    "# transpose只可以在原有维度数字之间改变顺序，而reshape可以产生新的数字，\n",
    "print(arr2.reshape(4, 2, 3))"
   ]
  },
  {
   "cell_type": "markdown",
   "metadata": {},
   "source": [
    "### 7，ndarray的元素运算"
   ]
  },
  {
   "cell_type": "code",
   "execution_count": null,
   "metadata": {},
   "outputs": [],
   "source": [
    "一元ufunc,二元，三元\n",
    "# ceil() 求向上最接近的整数\n",
    "# floor() 向下最接近的整数\n",
    "# rint() 四舍五入\n",
    "# abs() 绝对值\n",
    "# isnan() 判断是否是NaN值，是返回True，不是返回False\n",
    "#  multiply() 相乘   divide() 相除\n",
    "\n",
    "arr1 = np.random.randn(2,4)"
   ]
  },
  {
   "cell_type": "raw",
   "metadata": {},
   "source": [
    "[[-0.67272415 -0.2974997  -0.77466491  0.29933777]\n",
    " [-0.87865768  1.58651301 -0.26237331  1.31554801]]\n"
   ]
  },
  {
   "cell_type": "code",
   "execution_count": null,
   "metadata": {},
   "outputs": [],
   "source": [
    "print(np.ceil(arr1))\n"
   ]
  },
  {
   "cell_type": "raw",
   "metadata": {},
   "source": [
    "[[-0. -0. -0.  1.]\n",
    " [-0.  2. -0.  2.]]\n"
   ]
  },
  {
   "cell_type": "code",
   "execution_count": null,
   "metadata": {},
   "outputs": [],
   "source": [
    "print(np.rint(arr1))"
   ]
  },
  {
   "cell_type": "raw",
   "metadata": {},
   "source": [
    "[[-1. -0. -1.  0.]\n",
    " [-1.  2. -0.  1.]]"
   ]
  },
  {
   "cell_type": "code",
   "execution_count": null,
   "metadata": {},
   "outputs": [],
   "source": [
    "print(arr1)\n",
    "#print(nan_array)\n",
    "print(np.where(arr1 > 0, 1, -1))"
   ]
  },
  {
   "cell_type": "raw",
   "metadata": {},
   "source": [
    "[[-0.86435152 -1.93215229 -0.95905347  0.70890056]\n",
    " [ 0.00241859  1.11761348  0.19667334  0.36105848]\n",
    " [ 1.29465574 -0.09185127 -0.28743854 -0.11609426]]\n",
    "[[-1 -1 -1  1]\n",
    " [ 1  1  1  1]\n",
    " [ 1 -1 -1 -1]]\n"
   ]
  },
  {
   "cell_type": "markdown",
   "metadata": {},
   "source": [
    "### 8,ndarray的统计函数"
   ]
  },
  {
   "cell_type": "code",
   "execution_count": null,
   "metadata": {},
   "outputs": [],
   "source": [
    "# mean 求平均值  sum 求总和   max 和 min 求最大值和最小值 std 求标准差， var 求方差\n",
    "np.mean(arr1)\n",
    "# cumsum 求所有元素的累加和\n",
    "print(arr2)\n",
    "print(np.cumsum(arr2))"
   ]
  },
  {
   "cell_type": "raw",
   "metadata": {},
   "source": [
    "[[ 0  1  2  3  4]\n",
    " [ 5  6  7  8  9]\n",
    " [10 11 12 13 14]]\n",
    "[  0   1   3   6  10  15  21  28  36  45  55  66  78  91 105]"
   ]
  },
  {
   "cell_type": "markdown",
   "metadata": {},
   "source": [
    "### 9，条件判断函数  元素的判断：any 和 all"
   ]
  },
  {
   "cell_type": "code",
   "execution_count": null,
   "metadata": {},
   "outputs": [],
   "source": [
    "# 有一个元素满足，返回True\n",
    "np.any(arr2 > 10)"
   ]
  },
  {
   "cell_type": "code",
   "execution_count": null,
   "metadata": {},
   "outputs": [],
   "source": [
    "# 所有元素都满足，返回False\n",
    "print(np.all(arr2 > 10))"
   ]
  },
  {
   "cell_type": "markdown",
   "metadata": {},
   "source": [
    "### 10, ndarray支持的常用增加和删除操作"
   ]
  },
  {
   "cell_type": "markdown",
   "metadata": {},
   "source": [
    "append(), insert(), delete(), concatenate()"
   ]
  },
  {
   "cell_type": "code",
   "execution_count": null,
   "metadata": {},
   "outputs": [],
   "source": [
    "np.append(arr1, 100)"
   ]
  },
  {
   "cell_type": "code",
   "execution_count": null,
   "metadata": {},
   "outputs": [],
   "source": [
    "np.insert(arr1, 1, 100)"
   ]
  },
  {
   "cell_type": "code",
   "execution_count": null,
   "metadata": {},
   "outputs": [],
   "source": [
    "# 在第2行插入一行元素\n",
    "np.insert(arr3, 1, np.array([100, 200, 300, 400]), axis=0)"
   ]
  },
  {
   "cell_type": "code",
   "execution_count": null,
   "metadata": {},
   "outputs": [],
   "source": [
    "# 删除第0行元素\n",
    "np.delete(arr3, 0, axis=0)"
   ]
  },
  {
   "cell_type": "code",
   "execution_count": null,
   "metadata": {},
   "outputs": [],
   "source": [
    "# 按列合并合并两个二维数组\n",
    "np.concatenate((arr3, arr4), axis=0)"
   ]
  },
  {
   "cell_type": "markdown",
   "metadata": {},
   "source": [
    "元素的去重并排序, sort"
   ]
  },
  {
   "cell_type": "code",
   "execution_count": null,
   "metadata": {},
   "outputs": [],
   "source": [
    "print(np.unique(arr1))  # 默认升序"
   ]
  }
 ],
 "metadata": {
  "kernelspec": {
   "display_name": "Python 3",
   "language": "python",
   "name": "python3"
  },
  "language_info": {
   "codemirror_mode": {
    "name": "ipython",
    "version": 3
   },
   "file_extension": ".py",
   "mimetype": "text/x-python",
   "name": "python",
   "nbconvert_exporter": "python",
   "pygments_lexer": "ipython3",
   "version": "3.6.4"
  }
 },
 "nbformat": 4,
 "nbformat_minor": 2
}
