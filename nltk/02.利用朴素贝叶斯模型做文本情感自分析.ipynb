{
 "cells": [
  {
   "cell_type": "code",
   "execution_count": 64,
   "metadata": {
    "collapsed": true
   },
   "outputs": [],
   "source": [
    "# 分词\n",
    "import nltk\n",
    "\n",
    "# 词形归并\n",
    "from nltk.stem import WordNetLemmatizer\n",
    "\n",
    "# 停用词\n",
    "from nltk.corpus import stopwords\n",
    "\n",
    "# 朴素贝叶斯算法模型\n",
    "from nltk.classify import NaiveBayesClassifier"
   ]
  },
  {
   "cell_type": "code",
   "execution_count": 65,
   "metadata": {
    "collapsed": true
   },
   "outputs": [],
   "source": [
    "# 训练数据\n",
    "text1 = 'I like the movie so much!'\n",
    "text2 = 'That is a good movie.'\n",
    "text3 = 'This is a great one.'\n",
    "text4 = 'That is a really bad movie.'\n",
    "text5 = 'This is a terrible movie.'"
   ]
  },
  {
   "cell_type": "code",
   "execution_count": 73,
   "metadata": {
    "collapsed": true
   },
   "outputs": [],
   "source": [
    "def deal_text(text):\n",
    "    #分词处理\n",
    "    seg_list = nltk.word_tokenize(text)\n",
    "    \n",
    "    #词形归并\n",
    "    wordnet_lemmatizer = WordNetLemmatizer()\n",
    "    word_list = [wordnet_lemmatizer.lemmatize(seg) for seg in seg_list]\n",
    "    \n",
    "    # 去停用词\n",
    "    filtered_list = [word for word in word_list if word not in stopwords.words(\"english\")]\n",
    "    print(filtered_list)\n",
    "    \n",
    "    # 返回一个字典，这个字典就是朴素贝叶斯模型的训练参数\n",
    "    return {word : True for word in filtered_list}"
   ]
  },
  {
   "cell_type": "code",
   "execution_count": 67,
   "metadata": {},
   "outputs": [
    {
     "name": "stdout",
     "output_type": "stream",
     "text": [
      "['I', 'like', 'movie', 'much', '!']\n",
      "['That', 'good', 'movie', '.']\n",
      "['This', 'great', 'one', '.']\n",
      "['That', 'really', 'bad', 'movie', '.']\n",
      "['This', 'terrible', 'movie', '.']\n"
     ]
    }
   ],
   "source": [
    "# 训练的样本数据\n",
    "train_data = [\n",
    "    # 第一个元素是训练参数，第二个参数是对应的分值\n",
    "    [deal_text(text1), 1], \n",
    "    [deal_text(text2), 1],\n",
    "    [deal_text(text3), 1],\n",
    "    [deal_text(text4), 0],\n",
    "    [deal_text(text5), 0]\n",
    "]"
   ]
  },
  {
   "cell_type": "code",
   "execution_count": 68,
   "metadata": {},
   "outputs": [],
   "source": [
    "# 调用朴素贝叶斯的训练方法，按指定的数据进行训练学习\n",
    "NB_model = NaiveBayesClassifier.train(train_data)"
   ]
  },
  {
   "cell_type": "code",
   "execution_count": 69,
   "metadata": {
    "collapsed": true
   },
   "outputs": [],
   "source": [
    "# 测试文本：\n",
    "text6 = \"This is a good one.\"\n",
    "text7 = \"This is a bad one.\"\n",
    "text8 = \"This is dfahdfj 2234dfh good sfjafhwe.\""
   ]
  },
  {
   "cell_type": "code",
   "execution_count": 70,
   "metadata": {},
   "outputs": [
    {
     "name": "stdout",
     "output_type": "stream",
     "text": [
      "['This', 'good', 'one', '.']\n",
      "1\n"
     ]
    }
   ],
   "source": [
    "print(NB_model.classify(deal_text(text6)))"
   ]
  },
  {
   "cell_type": "code",
   "execution_count": 71,
   "metadata": {},
   "outputs": [
    {
     "name": "stdout",
     "output_type": "stream",
     "text": [
      "['This', 'bad', 'one', '.']\n",
      "0\n"
     ]
    }
   ],
   "source": [
    "print(NB_model.classify(deal_text(text7)))"
   ]
  },
  {
   "cell_type": "code",
   "execution_count": 72,
   "metadata": {},
   "outputs": [
    {
     "name": "stdout",
     "output_type": "stream",
     "text": [
      "['This', 'dfahdfj', '2234dfh', 'good', 'sfjafhwe', '.']\n",
      "1\n"
     ]
    }
   ],
   "source": [
    "print(NB_model.classify(deal_text(text8)))"
   ]
  },
  {
   "cell_type": "code",
   "execution_count": null,
   "metadata": {
    "collapsed": true
   },
   "outputs": [],
   "source": []
  }
 ],
 "metadata": {
  "kernelspec": {
   "display_name": "Python 3",
   "language": "python",
   "name": "python3"
  },
  "language_info": {
   "codemirror_mode": {
    "name": "ipython",
    "version": 3
   },
   "file_extension": ".py",
   "mimetype": "text/x-python",
   "name": "python",
   "nbconvert_exporter": "python",
   "pygments_lexer": "ipython3",
   "version": "3.6.4"
  }
 },
 "nbformat": 4,
 "nbformat_minor": 2
}
