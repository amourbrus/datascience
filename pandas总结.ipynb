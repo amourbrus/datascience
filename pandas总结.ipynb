{
 "cells": [
  {
   "cell_type": "markdown",
   "metadata": {},
   "source": [
    "### 1.pandas 的数据结构"
   ]
  },
  {
   "cell_type": "code",
   "execution_count": 1,
   "metadata": {},
   "outputs": [],
   "source": [
    "import pandas as pd"
   ]
  },
  {
   "cell_type": "markdown",
   "metadata": {},
   "source": [
    "##### Series 对象的创建"
   ]
  },
  {
   "cell_type": "markdown",
   "metadata": {},
   "source": [
    "1.通过列表创建"
   ]
  },
  {
   "cell_type": "code",
   "execution_count": 2,
   "metadata": {},
   "outputs": [],
   "source": [
    "lis = range(5,20)\n",
    "ser_obj = pd.Series(lis)"
   ]
  },
  {
   "cell_type": "markdown",
   "metadata": {},
   "source": [
    "2.获取Series 的数据和索引"
   ]
  },
  {
   "cell_type": "code",
   "execution_count": null,
   "metadata": {},
   "outputs": [],
   "source": [
    "# values 查看数据  indes 查看索引\n",
    "print(ser_obj.values)\n",
    "print(ser_obj.index)"
   ]
  },
  {
   "cell_type": "markdown",
   "metadata": {},
   "source": [
    "3.通过索引获取数据"
   ]
  },
  {
   "cell_type": "code",
   "execution_count": null,
   "metadata": {},
   "outputs": [],
   "source": [
    "print(ser_obj[3])"
   ]
  },
  {
   "cell_type": "markdown",
   "metadata": {},
   "source": [
    "4.通过字典构建"
   ]
  },
  {
   "cell_type": "code",
   "execution_count": null,
   "metadata": {},
   "outputs": [],
   "source": [
    "dict_data = {2000:100,2001:200,2002:300}\n",
    "# dict_data = {\"data\"+str(i):i for i in range(20,50,10)}"
   ]
  },
  {
   "cell_type": "code",
   "execution_count": null,
   "metadata": {},
   "outputs": [],
   "source": [
    "# 字典的键将做为行索引，字典的值做为Series对象的值\n",
    "ser_obj2 = pd.Series(dict_data)"
   ]
  },
  {
   "cell_type": "code",
   "execution_count": null,
   "metadata": {},
   "outputs": [],
   "source": [
    "# 给Series对象起个名字\n",
    "ser_obj2.name = \"Money\"\n",
    "# 给Series对象的索引起个名字\n",
    "ser_obj2.index.name = \"year\"\n",
    "print(ser_obj2)"
   ]
  },
  {
   "cell_type": "markdown",
   "metadata": {},
   "source": [
    "##### DataFrame 对象的创建"
   ]
  },
  {
   "cell_type": "markdown",
   "metadata": {},
   "source": [
    "1.通过二维数组创建DataFrame对象"
   ]
  },
  {
   "cell_type": "code",
   "execution_count": null,
   "metadata": {},
   "outputs": [],
   "source": [
    "# 3 4 二维数组\n",
    "arr = np.random.rand(3,4) \n",
    "df_obj = pd.DataFrame(arr)"
   ]
  },
  {
   "cell_type": "markdown",
   "metadata": {},
   "source": [
    "2.通过字典创建DataFrame对象"
   ]
  },
  {
   "cell_type": "code",
   "execution_count": null,
   "metadata": {},
   "outputs": [],
   "source": [
    "dict_data = {\"A\" : 100, \"B\" : pd.Timestamp(\"20171016\"), \n",
    "             \"C\" : \"itcast\", \"D\" : np.array([3] * 4), \n",
    "             \"E\" : [\"C++\", \"Python\", \"Java\", \"PHP\"]}\n",
    "pd.DataFrame(dict_data)"
   ]
  },
  {
   "cell_type": "markdown",
   "metadata": {},
   "source": [
    "3.通过索引获取列数据"
   ]
  },
  {
   "cell_type": "code",
   "execution_count": null,
   "metadata": {},
   "outputs": [],
   "source": [
    "print(df_obj2['A'])\n",
    "#print(type(df_obj2['A']))\n",
    "#print(df_obj2.E)  # 仅获取操作可以使用点，增加删除只能用[ ]"
   ]
  },
  {
   "cell_type": "markdown",
   "metadata": {},
   "source": [
    "4.增加新的列数据"
   ]
  },
  {
   "cell_type": "code",
   "execution_count": null,
   "metadata": {},
   "outputs": [],
   "source": [
    "df_obj2['F'] = df_obj2[\"D\"] + 10\n",
    "#print(df_obj2)\n",
    "df_obj2['G'] = [3.14, 2.12, 3.43, 88.88]\n",
    "print(df_obj2)"
   ]
  },
  {
   "cell_type": "markdown",
   "metadata": {},
   "source": [
    "5.取出某个列的元素"
   ]
  },
  {
   "cell_type": "code",
   "execution_count": null,
   "metadata": {},
   "outputs": [],
   "source": [
    "# colume first \n",
    "print(df_obj2['E'][1])"
   ]
  },
  {
   "cell_type": "markdown",
   "metadata": {},
   "source": [
    "6.删除一列数据"
   ]
  },
  {
   "cell_type": "code",
   "execution_count": null,
   "metadata": {},
   "outputs": [],
   "source": [
    "del(df_obj2['D'])"
   ]
  },
  {
   "cell_type": "code",
   "execution_count": null,
   "metadata": {},
   "outputs": [],
   "source": [
    "# 取出一列，为Series ,多个Series 构成DataFrame"
   ]
  },
  {
   "cell_type": "code",
   "execution_count": null,
   "metadata": {},
   "outputs": [],
   "source": [
    "# 先取列，在取数据，>>> 取出某个数据\n",
    "print(df-obj2['E'][1])"
   ]
  },
  {
   "cell_type": "markdown",
   "metadata": {},
   "source": [
    "### 2.pandas的索引操作"
   ]
  },
  {
   "cell_type": "markdown",
   "metadata": {},
   "source": [
    "Series的索引操作"
   ]
  },
  {
   "cell_type": "code",
   "execution_count": null,
   "metadata": {},
   "outputs": [],
   "source": [
    "# 指定Series的索引号\n",
    "ser_obj = pd.Series(range(10, 20, 2), index = ['a', 'b', 'c', 'd', 'e'])"
   ]
  },
  {
   "cell_type": "code",
   "execution_count": null,
   "metadata": {},
   "outputs": [],
   "source": [
    "# 根据索引取值\n",
    "print(ser_obj[2])\n",
    "print(ser_obj['c'])"
   ]
  },
  {
   "cell_type": "code",
   "execution_count": null,
   "metadata": {},
   "outputs": [],
   "source": [
    "# 根据索引进行切片\n",
    "# 使用索引下标结束位不包含   左开右闭\n",
    "print(ser_obj[1:4])\n",
    "# 使用索引名结束位包含        双闭\n",
    "print(ser_obj['b':'d'])"
   ]
  },
  {
   "cell_type": "code",
   "execution_count": null,
   "metadata": {},
   "outputs": [],
   "source": [
    "# 不连续索引取值   参数是一个列表，包含了需要取值的索引下标或索引名\n",
    "print(ser_obj[ [0, 2, 4] ])\n",
    "print(ser_obj[ ['a', 'c', 'e']])"
   ]
  },
  {
   "cell_type": "code",
   "execution_count": null,
   "metadata": {},
   "outputs": [],
   "source": [
    "# 布尔索引\n",
    "# 只取出值大于等于14的数据\n",
    "print(ser_obj[ser_obj >= 14])\n",
    "\n",
    "# 只取出索引名 大于等于 ‘c' 的数据\n",
    "#print(ser_obj.index > 'c')\n",
    "print(ser_obj[ser_obj.index >= 'c'])"
   ]
  },
  {
   "cell_type": "markdown",
   "metadata": {},
   "source": [
    "DataFrame的索引操作"
   ]
  },
  {
   "cell_type": "code",
   "execution_count": null,
   "metadata": {},
   "outputs": [],
   "source": [
    "# index指定行索引的行名， columns指定列索引的列名\n",
    "df_obj = pd.DataFrame(np.random.rand(3, 4), index = ['A', 'B', 'C'], \n",
    "                      columns=['a', 'b', 'c', 'd'])\n"
   ]
  },
  {
   "cell_type": "code",
   "execution_count": 17,
   "metadata": {},
   "outputs": [],
   "source": [
    "# 通过列索引取值\n",
    "print(df_obj['b'])\n",
    "print(df_obj['b'][c])"
   ]
  },
  {
   "cell_type": "code",
   "execution_count": null,
   "metadata": {},
   "outputs": [],
   "source": [
    "# 不连续索引  取出指定的列数据\n",
    "print(df_obj[['a','c','d']])"
   ]
  },
  {
   "cell_type": "markdown",
   "metadata": {},
   "source": [
    "pandas的高级索引 loc,iloc,ix"
   ]
  },
  {
   "cell_type": "code",
   "execution_count": null,
   "metadata": {},
   "outputs": [],
   "source": [
    "# loc根据标签做切片索引\n",
    "print(ser_obj['b' : 'c'])\n",
    "print(ser_obj.loc['b' : 'c'])"
   ]
  },
  {
   "cell_type": "code",
   "execution_count": null,
   "metadata": {},
   "outputs": [],
   "source": [
    "# DataFrame对象默认不支持索引名切片取值，所以要用loc高级索引\n",
    "#print(df_obj['a' : 'c'])\n",
    "\n",
    "# loc 包含两个参数： 第一个 行的切片索引， 第二个是列的切片索引\n",
    "print(df_obj.loc[:, \"b\" : \"d\"])"
   ]
  },
  {
   "cell_type": "code",
   "execution_count": null,
   "metadata": {},
   "outputs": [],
   "source": [
    "# iloc根据索引下标做切片索引\n",
    "print(ser_obj[1:4])"
   ]
  },
  {
   "cell_type": "code",
   "execution_count": null,
   "metadata": {},
   "outputs": [],
   "source": [
    "# DataFrame对象默认不支持下标切片索引取值，所以要用 iloc高级索引\n",
    "#print(df_obj[1:3])\n",
    "# iloc 也包含两个参数：第一个是行的下标切片索引，第二个是列的下标切片索引\n",
    "print(df_obj.iloc[:, 1:3])"
   ]
  },
  {
   "cell_type": "code",
   "execution_count": null,
   "metadata": {},
   "outputs": [],
   "source": [
    "# ix 混合索引：既可以用下标也可以用索引名 (但是不推荐使用，容易造成代码混乱，推荐使用loc 或 iloc)"
   ]
  },
  {
   "cell_type": "code",
   "execution_count": null,
   "metadata": {},
   "outputs": [],
   "source": [
    "print(ser_obj.ix[1:3])\n",
    "print(ser_obj.ix['b' : 'c'])"
   ]
  },
  {
   "cell_type": "code",
   "execution_count": null,
   "metadata": {},
   "outputs": [],
   "source": [
    "print(df_obj.ix[:, 1:3])\n",
    "print(df_obj.ix[:, \"b\" : \"c\"])"
   ]
  },
  {
   "cell_type": "markdown",
   "metadata": {},
   "source": [
    "### 3.pandas的对齐运算"
   ]
  },
  {
   "cell_type": "markdown",
   "metadata": {},
   "source": [
    "1.Series 的对齐运算"
   ]
  },
  {
   "cell_type": "code",
   "execution_count": null,
   "metadata": {},
   "outputs": [],
   "source": [
    "ser_obj1 = pd.Series(range(10, 20))\n",
    "ser_obj2 = pd.Series(range(30, 35))"
   ]
  },
  {
   "cell_type": "code",
   "execution_count": null,
   "metadata": {},
   "outputs": [],
   "source": [
    "# 合并两个Series的数据，返回新的Series对象（未对齐的数据会填充为NaN (not a number)\n",
    "ser_obj3 = ser_obj1.add(ser_obj2)\n",
    "print(ser_obj3)"
   ]
  },
  {
   "cell_type": "code",
   "execution_count": null,
   "metadata": {},
   "outputs": [],
   "source": [
    "# 处理缺失值   fill_value会填充一个值参与对齐运算，防止NaN的处理\n",
    "ser_obj4 = ser_obj1.add(ser_obj2, fill_value=0)\n",
    "print(ser_obj4)"
   ]
  },
  {
   "cell_type": "markdown",
   "metadata": {},
   "source": [
    "2.DataFrame 的对齐运算"
   ]
  },
  {
   "cell_type": "code",
   "execution_count": null,
   "metadata": {},
   "outputs": [],
   "source": [
    "df_obj1 = pd.DataFrame(np.random.rand(3, 4), columns=['a', 'b','c','d'])\n",
    "df_obj2 = pd.DataFrame(np.random.rand(4, 5), columns=['a','b','c','d','e'])\n",
    "print(df_obj1)\n",
    "print(df_obj2)"
   ]
  },
  {
   "cell_type": "code",
   "execution_count": null,
   "metadata": {},
   "outputs": [],
   "source": [
    "df_obj3 = df_obj1.add(df_obj2)\n",
    "print(df_obj3)"
   ]
  },
  {
   "cell_type": "code",
   "execution_count": null,
   "metadata": {},
   "outputs": [],
   "source": [
    "# 通过fill_value填充缺失值进行对齐运算\n",
    "df_obj4 = df_obj1.add(df_obj2, fill_value=0)\n",
    "print(df_obj4)"
   ]
  },
  {
   "cell_type": "markdown",
   "metadata": {},
   "source": [
    "### 4.pandas的函数应用"
   ]
  },
  {
   "cell_type": "code",
   "execution_count": null,
   "metadata": {},
   "outputs": [],
   "source": [
    "# 可以直接使用numpy的ufunc 来做统计运算\n",
    "print(ser_obj.mean())\n",
    "print(ser_obj.sum())\n",
    "print(ser_obj.max())\n",
    "\n",
    "# 默认按列统计\n",
    "print(df_obj.mean())\n",
    "print(df_obj.sum())\n",
    "\n",
    "# 通过numpy来做运算\n",
    "print(np.mean(ser_obj))\n",
    "print(np.sum(df_obj))"
   ]
  },
  {
   "cell_type": "code",
   "execution_count": null,
   "metadata": {},
   "outputs": [],
   "source": [
    "# 通过apply来使用自定义方法来运算 （只能作用与行/列， 通过axis来指定轴方向）\n",
    "# 默认 axis=0，方向是列,\n",
    "# 表示求出行/列的最大值\n",
    "f1 = lambda x : x.max()\n"
   ]
  },
  {
   "cell_type": "code",
   "execution_count": null,
   "metadata": {},
   "outputs": [],
   "source": [
    "# 默认axis = 0，表示统计列\n",
    "print(df_obj.apply(f1))\n",
    "\n",
    "# 指定axis = 1，表示统计行\n",
    "print(df_obj.apply(f1, axis=1))"
   ]
  },
  {
   "cell_type": "code",
   "execution_count": 19,
   "metadata": {},
   "outputs": [],
   "source": [
    "# 通过applymap 来使用自定义的方法（作用于每个元素上）\n",
    "f2 = lambda x : x ** 2\n",
    "print(df_obj.applymap(f2))"
   ]
  },
  {
   "cell_type": "code",
   "execution_count": null,
   "metadata": {},
   "outputs": [],
   "source": [
    "# 4.python map   only  Series  DataFrame  not useful\n",
    "# 结果等同于 ser_obj.map(f2)\n",
    "print(ser_obj.apply(f2))"
   ]
  },
  {
   "cell_type": "markdown",
   "metadata": {},
   "source": [
    "### 5.pandas的排序处理 "
   ]
  },
  {
   "cell_type": "markdown",
   "metadata": {},
   "source": [
    "1.按索引排序 (sort_index)"
   ]
  },
  {
   "cell_type": "markdown",
   "metadata": {},
   "source": [
    "> Series的索引排序"
   ]
  },
  {
   "cell_type": "code",
   "execution_count": null,
   "metadata": {},
   "outputs": [],
   "source": [
    "# 默认是按升序排序， ascending=True    \n",
    "print(ser_obj.sort_index())"
   ]
  },
  {
   "cell_type": "markdown",
   "metadata": {},
   "source": [
    "> DataFrame的索引排序"
   ]
  },
  {
   "cell_type": "code",
   "execution_count": null,
   "metadata": {},
   "outputs": [],
   "source": [
    "# default axis=0, ascending=True  按列的方向 升序 排序\n",
    "print(df_obj.sort_index(axis = 1, ascending=False))"
   ]
  },
  {
   "cell_type": "markdown",
   "metadata": {},
   "source": [
    "2.按值排序  (sort_values)"
   ]
  },
  {
   "cell_type": "markdown",
   "metadata": {},
   "source": [
    "> Series的值排序"
   ]
  },
  {
   "cell_type": "code",
   "execution_count": null,
   "metadata": {},
   "outputs": [],
   "source": [
    "# default ascending=True\n",
    "print(ser_obj.sort_values())"
   ]
  },
  {
   "cell_type": "markdown",
   "metadata": {},
   "source": [
    ">DataFrame 的值排序（DataFrame不能排序行的数据，只能排序某一列的数据,,必须通过by指定列名）"
   ]
  },
  {
   "cell_type": "code",
   "execution_count": null,
   "metadata": {},
   "outputs": [],
   "source": [
    "print(df_obj.sort_values(by=13, ascending=False))"
   ]
  },
  {
   "cell_type": "markdown",
   "metadata": {},
   "source": [
    "### 6.pandas的数据缺失处理  --------  处理NAN的情况 ---- 在Excell中是空的，pandas/numpy读入是NaN, \"\"仍是\"\", 这三个方法不会处理他们"
   ]
  },
  {
   "cell_type": "markdown",
   "metadata": {},
   "source": [
    "1.判断表格内是否存在缺失值  ---- isnull()"
   ]
  },
  {
   "cell_type": "code",
   "execution_count": null,
   "metadata": {},
   "outputs": [],
   "source": [
    "# numpy : np.isnull()\n",
    "print(df_obj.isnull())"
   ]
  },
  {
   "cell_type": "markdown",
   "metadata": {},
   "source": [
    "2.丢弃包含缺失值的行/列 dropna()     *注：这里的axis=0,删除行*"
   ]
  },
  {
   "cell_type": "code",
   "execution_count": null,
   "metadata": {},
   "outputs": [],
   "source": [
    "# 默认删除行 也是实际需求导致，不可能一个数缺失，删掉一列（那就是一切）\n",
    "df_obj.dropna()"
   ]
  },
  {
   "cell_type": "markdown",
   "metadata": {},
   "source": [
    "3.填充缺失值  ----- fillna()    ----ValueError: must specify a fill method or value\n",
    "必须有参数"
   ]
  },
  {
   "cell_type": "code",
   "execution_count": null,
   "metadata": {},
   "outputs": [],
   "source": [
    "df_obj.fillna(0)"
   ]
  },
  {
   "cell_type": "markdown",
   "metadata": {},
   "source": [
    "### 7.pandas的层级索引 和 数据重构"
   ]
  },
  {
   "cell_type": "code",
   "execution_count": 4,
   "metadata": {},
   "outputs": [],
   "source": [
    "import pandas as pd\n",
    "import numpy as np"
   ]
  },
  {
   "cell_type": "code",
   "execution_count": 5,
   "metadata": {},
   "outputs": [
    {
     "name": "stdout",
     "output_type": "stream",
     "text": [
      "a  0    2.920706\n",
      "   1   -0.527891\n",
      "   2    0.118533\n",
      "b  0   -0.911154\n",
      "   1   -0.599608\n",
      "   2    1.153401\n",
      "c  0    0.195145\n",
      "   1    0.865862\n",
      "   2   -0.596496\n",
      "d  0    0.266008\n",
      "   1    0.680824\n",
      "   2   -1.089139\n",
      "dtype: float64\n"
     ]
    }
   ],
   "source": [
    "ser_obj = pd.Series(np.random.randn(12),index=[\n",
    "                ['a', 'a', 'a', 'b', 'b', 'b', 'c', 'c', 'c', 'd', 'd', 'd'],\n",
    "                [0, 1, 2, 0, 1, 2, 0, 1, 2, 0, 1, 2]\n",
    "            ])\n",
    "print(ser_obj)"
   ]
  },
  {
   "cell_type": "markdown",
   "metadata": {},
   "source": [
    ">1.选层"
   ]
  },
  {
   "cell_type": "code",
   "execution_count": 6,
   "metadata": {},
   "outputs": [
    {
     "name": "stdout",
     "output_type": "stream",
     "text": [
      "0   -0.911154\n",
      "1   -0.599608\n",
      "2    1.153401\n",
      "dtype: float64\n",
      "1.1534006265442582\n"
     ]
    }
   ],
   "source": [
    "#### 1. 外层\n",
    "print(ser_obj['b'])        \n",
    "#### 2. 内层\n",
    "print(ser_obj['b', 2])"
   ]
  },
  {
   "cell_type": "markdown",
   "metadata": {},
   "source": [
    ">2.交换分层 ---- swaplevel"
   ]
  },
  {
   "cell_type": "code",
   "execution_count": null,
   "metadata": {},
   "outputs": [],
   "source": [
    "print(ser_obj.swaplevel(0, 1))\n",
    "# 参数： 0  表示最外层\n",
    "# 参数： 1  表示第二外层\n",
    "# 参数： 2  表示第三外层\n",
    "# ..."
   ]
  },
  {
   "cell_type": "markdown",
   "metadata": {},
   "source": [
    ">3.排序分层  ----- sortlevel()"
   ]
  },
  {
   "cell_type": "code",
   "execution_count": null,
   "metadata": {},
   "outputs": [],
   "source": [
    "print(ser_obj.sortlevel(level=1))\n",
    "# 参数： 0  表示最外层\n",
    "# 参数： 1  表示第二外层\n",
    "# 参数： 2  表示第三外层\n",
    "# ..."
   ]
  },
  {
   "cell_type": "markdown",
   "metadata": {},
   "source": [
    ">4.交换并排序分层"
   ]
  },
  {
   "cell_type": "code",
   "execution_count": null,
   "metadata": {},
   "outputs": [],
   "source": [
    "# 相当于内外层交换\n",
    "ser_obj2 = ser_obj.swaplevel().sortlevel(0)\n",
    "print(ser_obj2)"
   ]
  },
  {
   "cell_type": "markdown",
   "metadata": {},
   "source": [
    ">5.数据重构"
   ]
  },
  {
   "cell_type": "code",
   "execution_count": null,
   "metadata": {},
   "outputs": [],
   "source": [
    "# 1.Series 重构成 DataFrame   ---- unstack() 最外层变为索引，次外层为列名\n",
    "# 2.DataFrame 重构成 Series   ----  stack() 索引变为最外层索引，列名变为次外层索引"
   ]
  },
  {
   "cell_type": "code",
   "execution_count": null,
   "metadata": {},
   "outputs": [],
   "source": []
  },
  {
   "cell_type": "code",
   "execution_count": null,
   "metadata": {},
   "outputs": [],
   "source": [
    "# 补充: np.where()"
   ]
  },
  {
   "cell_type": "code",
   "execution_count": 10,
   "metadata": {},
   "outputs": [
    {
     "name": "stdout",
     "output_type": "stream",
     "text": [
      "[1.1 2.2 2.3 1.4 1.5]\n"
     ]
    }
   ],
   "source": [
    "x = np.array([1.1,1.2,1.3,1.4,1.5])\n",
    "y = np.array([2.1,2.2,2.3,2.4,2.5])\n",
    "condition = ([True, False, False, True, True])\n",
    "result = np.where(condition,x,y)     # >>> x if condition , else y\n",
    "print(result)"
   ]
  },
  {
   "cell_type": "code",
   "execution_count": null,
   "metadata": {},
   "outputs": [],
   "source": [
    "    "
   ]
  },
  {
   "cell_type": "code",
   "execution_count": null,
   "metadata": {},
   "outputs": [],
   "source": []
  },
  {
   "cell_type": "code",
   "execution_count": null,
   "metadata": {},
   "outputs": [],
   "source": []
  },
  {
   "cell_type": "code",
   "execution_count": null,
   "metadata": {},
   "outputs": [],
   "source": []
  },
  {
   "cell_type": "code",
   "execution_count": null,
   "metadata": {},
   "outputs": [],
   "source": []
  }
 ],
 "metadata": {
  "kernelspec": {
   "display_name": "Python 3",
   "language": "python",
   "name": "python3"
  },
  "language_info": {
   "codemirror_mode": {
    "name": "ipython",
    "version": 3
   },
   "file_extension": ".py",
   "mimetype": "text/x-python",
   "name": "python",
   "nbconvert_exporter": "python",
   "pygments_lexer": "ipython3",
   "version": "3.6.4"
  }
 },
 "nbformat": 4,
 "nbformat_minor": 2
}
